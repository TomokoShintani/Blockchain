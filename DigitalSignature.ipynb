{
 "cells": [
  {
   "cell_type": "code",
   "execution_count": 24,
   "metadata": {},
   "outputs": [],
   "source": [
    "from ecdsa import SigningKey\n",
    "from ecdsa import SECP256k1\n",
    "import time"
   ]
  },
  {
   "cell_type": "code",
   "execution_count": 25,
   "metadata": {},
   "outputs": [],
   "source": [
    "def ask_confirmation():\n",
    "    while True:\n",
    "        ans = input(\"Do you verify the message you received? [ENTER y/n]:\")\n",
    "        if ans in [\"y\", \"n\"]:\n",
    "            return ans\n",
    "        else:\n",
    "            print(\"Enter valid answer.\")"
   ]
  },
  {
   "cell_type": "code",
   "execution_count": 37,
   "metadata": {},
   "outputs": [],
   "source": [
    "class User:\n",
    "    def __init__(self, name):\n",
    "        self.name = name\n",
    "        self.secret_key = SigningKey.generate(curve=SECP256k1)\n",
    "        self.public_key = self.secret_key.verifying_key\n",
    "        self.mail_box ={}\n",
    "\n",
    "    def send_data(self, data, receiver):\n",
    "        data_bytes = bytes(data, encoding= \"utf-8\")\n",
    "        self.mail_box[receiver.name] = History(self.name, data, data_bytes, receiver)\n",
    "        signatured_data = self.secret_key.sign(data_bytes)\n",
    "        receiver.receive_data(self, signatured_data)\n",
    "\n",
    "        \n",
    "    def receive_data(self, sender, received_signed_data):\n",
    "        confirmation = ask_confirmation()\n",
    "        if confirmation == \"y\":\n",
    "            self.verify_data(sender, received_signed_data)\n",
    "        else:\n",
    "            print(\"Verification interrupted.\")\n",
    "\n",
    "    def verify_data(self, sender, received_signed_data):\n",
    "        data = sender.mail_box[self.name].open_data()\n",
    "        true_data_bytes = sender.mail_box[self.name].data_bytes\n",
    "        print(sender.public_key.verify(received_signed_data, true_data_bytes))\n",
    "        print(\"Message: {} From: {}\".format(data, sender.name))\n",
    "\n",
    "\n",
    "\n",
    "class History:\n",
    "    def __init__(self, sender, data, data_bytes, receiver):\n",
    "        self.sended_time = time.time()\n",
    "        self.sender = sender\n",
    "        self.data = data\n",
    "        self.data_bytes = data_bytes\n",
    "        self.receiver = receiver\n",
    "    def open_data(self): \n",
    "        return self.data"
   ]
  },
  {
   "cell_type": "code",
   "execution_count": 38,
   "metadata": {},
   "outputs": [],
   "source": [
    "Amy = User('Amy')"
   ]
  },
  {
   "cell_type": "code",
   "execution_count": 39,
   "metadata": {},
   "outputs": [],
   "source": [
    "Bob = User('Bob')"
   ]
  },
  {
   "cell_type": "code",
   "execution_count": 40,
   "metadata": {},
   "outputs": [
    {
     "name": "stdout",
     "output_type": "stream",
     "text": [
      "True\n",
      "Message: Hello From: Amy\n"
     ]
    }
   ],
   "source": [
    "Amy.send_data(\"Hello\", Bob)"
   ]
  },
  {
   "cell_type": "code",
   "execution_count": null,
   "metadata": {},
   "outputs": [],
   "source": []
  }
 ],
 "metadata": {
  "kernelspec": {
   "display_name": "Python 3",
   "language": "python",
   "name": "python3"
  },
  "language_info": {
   "codemirror_mode": {
    "name": "ipython",
    "version": 3
   },
   "file_extension": ".py",
   "mimetype": "text/x-python",
   "name": "python",
   "nbconvert_exporter": "python",
   "pygments_lexer": "ipython3",
   "version": "3.11.1"
  }
 },
 "nbformat": 4,
 "nbformat_minor": 2
}
